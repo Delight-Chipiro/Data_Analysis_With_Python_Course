{
 "cells": [
  {
   "cell_type": "markdown",
   "id": "614c44f4-8504-4448-a5f0-6f5085109b9c",
   "metadata": {},
   "source": [
    "### Mean-Variance-Standard Deviation Calculator Project"
   ]
  },
  {
   "cell_type": "code",
   "execution_count": 1,
   "id": "22a59b73-34a5-481e-afba-3fedeebf5777",
   "metadata": {},
   "outputs": [],
   "source": [
    "import numpy as np"
   ]
  },
  {
   "cell_type": "code",
   "execution_count": 6,
   "id": "a9637855-9ffc-41c1-8576-d60923be8698",
   "metadata": {},
   "outputs": [],
   "source": [
    "def calculate(num):\n",
    "\n",
    "    if len(num) != 9:\n",
    "        print(\"List must contain nine numbers.\")\n",
    "\n",
    "    matrix = np.array(num).reshape(3, 3)\n",
    "  \n",
    "    calculator = {\n",
    "        'mean': [matrix.mean(axis=0).tolist(), matrix.mean(axis=1).tolist(), matrix.mean().tolist()],\n",
    "        'variance': [matrix.var(axis=0).tolist(), matrix.var(axis=1).tolist(), matrix.var().tolist()],\n",
    "        'standard deviation': [matrix.std(axis=0).tolist(), matrix.std(axis=1).tolist(), matrix.std().tolist()],\n",
    "        'max': [matrix.max(axis=0).tolist(), matrix.max(axis=1).tolist(), matrix.max().tolist()],\n",
    "        'min': [matrix.min(axis=0).tolist(), matrix.min(axis=1).tolist(), matrix.min().tolist()],\n",
    "        'sum': [matrix.sum(axis=0).tolist(), matrix.sum(axis=1).tolist(), matrix.sum().tolist()]\n",
    "    }\n",
    "    return calculator"
   ]
  },
  {
   "cell_type": "code",
   "execution_count": 7,
   "id": "2a0053b0-82a1-4e7f-8f18-d69166c8a23e",
   "metadata": {},
   "outputs": [
    {
     "data": {
      "text/plain": [
       "{'mean': [[3.0, 4.0, 5.0], [1.0, 4.0, 7.0], 4.0],\n",
       " 'variance': [[6.0, 6.0, 6.0],\n",
       "  [0.6666666666666666, 0.6666666666666666, 0.6666666666666666],\n",
       "  6.666666666666667],\n",
       " 'standard deviation': [[2.449489742783178,\n",
       "   2.449489742783178,\n",
       "   2.449489742783178],\n",
       "  [0.816496580927726, 0.816496580927726, 0.816496580927726],\n",
       "  2.581988897471611],\n",
       " 'max': [[6, 7, 8], [2, 5, 8], 8],\n",
       " 'min': [[0, 1, 2], [0, 3, 6], 0],\n",
       " 'sum': [[9, 12, 15], [3, 12, 21], 36]}"
      ]
     },
     "execution_count": 7,
     "metadata": {},
     "output_type": "execute_result"
    }
   ],
   "source": [
    "num = [0, 1, 2, 3, 4, 5, 6, 7, 8]\n",
    "calculate(num)"
   ]
  },
  {
   "cell_type": "code",
   "execution_count": null,
   "id": "e602cb21-1522-4108-9fbb-b241bb371f12",
   "metadata": {},
   "outputs": [],
   "source": []
  }
 ],
 "metadata": {
  "kernelspec": {
   "display_name": "Python 3 (ipykernel)",
   "language": "python",
   "name": "python3"
  },
  "language_info": {
   "codemirror_mode": {
    "name": "ipython",
    "version": 3
   },
   "file_extension": ".py",
   "mimetype": "text/x-python",
   "name": "python",
   "nbconvert_exporter": "python",
   "pygments_lexer": "ipython3",
   "version": "3.11.9"
  }
 },
 "nbformat": 4,
 "nbformat_minor": 5
}
