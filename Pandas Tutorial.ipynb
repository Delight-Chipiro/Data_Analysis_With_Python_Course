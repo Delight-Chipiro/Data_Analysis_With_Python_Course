{
 "cells": [
  {
   "cell_type": "markdown",
   "id": "2145b3fc-82fc-4e7b-ada2-661e57b3e96d",
   "metadata": {},
   "source": [
    "## Pandas DataFrame Tutorial"
   ]
  },
  {
   "cell_type": "code",
   "execution_count": 1,
   "id": "99c2424a-8d80-4072-89a0-e42b023e13e3",
   "metadata": {},
   "outputs": [],
   "source": [
    "import pandas as pd"
   ]
  },
  {
   "cell_type": "code",
   "execution_count": 2,
   "id": "ba84aa77-07ae-443b-8f5f-aa273627fcbb",
   "metadata": {},
   "outputs": [
    {
     "name": "stdout",
     "output_type": "stream",
     "text": [
      "Certificates        5\n",
      "Time (in Months)    9\n",
      "Name: Ahmad, dtype: int64\n"
     ]
    }
   ],
   "source": [
    "certificate = pd.DataFrame({\n",
    "    'Certificates':[8,2,5,6],\n",
    "    'Time (in Months)':[16,5,9,12]\n",
    "})\n",
    "certificate.index = ['Tom','Kris','Ahmad','Beau']\n",
    "\n",
    "print(certificate.iloc[2])"
   ]
  },
  {
   "cell_type": "code",
   "execution_count": null,
   "id": "3fca90db-756f-4bc3-b089-824e3c9c0f24",
   "metadata": {},
   "outputs": [],
   "source": [
    "#certificate = pd.DataFrame({\n",
    "#    'Certificates':[8,2,5,6],\n",
    "#    'Time (in Months)':[16,5,9,12]\n",
    "#})\n",
    "\n",
    "#names = ['Tom','Kris','Ahmad','Beau']\n",
    "\n",
    "#certificate.index = names\n"
   ]
  },
  {
   "cell_type": "code",
   "execution_count": 3,
   "id": "6409bb93-df40-42ec-a24c-26fadd9af960",
   "metadata": {},
   "outputs": [
    {
     "name": "stdout",
     "output_type": "stream",
     "text": [
      "0    NaN\n",
      "1    1.0\n",
      "2    2.0\n",
      "3    2.0\n",
      "4    3.0\n",
      "dtype: float64\n"
     ]
    },
    {
     "name": "stderr",
     "output_type": "stream",
     "text": [
      "C:\\Users\\Delight\\AppData\\Local\\Temp\\ipykernel_3948\\1012071802.py:4: FutureWarning: Series.fillna with 'method' is deprecated and will raise in a future version. Use obj.ffill() or obj.bfill() instead.\n",
      "  s = s.fillna(method = 'ffill')\n"
     ]
    }
   ],
   "source": [
    "import numpy as np\n",
    "\n",
    "s = pd.Series([np.nan,1,2, np.nan,3])\n",
    "s = s.fillna(method = 'ffill')\n",
    "\n",
    "print(s)"
   ]
  },
  {
   "cell_type": "code",
   "execution_count": null,
   "id": "92c5ba2f-2c9b-4e0a-9ef1-2d6d4e556709",
   "metadata": {},
   "outputs": [],
   "source": []
  },
  {
   "cell_type": "code",
   "execution_count": null,
   "id": "e5b29bc4-7e7b-4e58-aafe-0946231c24a1",
   "metadata": {},
   "outputs": [],
   "source": []
  },
  {
   "cell_type": "code",
   "execution_count": null,
   "id": "8198e030-f60a-4598-960a-57da529fc449",
   "metadata": {},
   "outputs": [],
   "source": []
  },
  {
   "cell_type": "code",
   "execution_count": null,
   "id": "f5eff545-4fdc-4540-a5ed-013f7ebd1071",
   "metadata": {},
   "outputs": [],
   "source": []
  },
  {
   "cell_type": "code",
   "execution_count": null,
   "id": "42782e69-0662-4061-b6ca-c43c5ebce27e",
   "metadata": {},
   "outputs": [],
   "source": []
  },
  {
   "cell_type": "code",
   "execution_count": null,
   "id": "a62ee533-a609-4b73-b31d-34126fd4e045",
   "metadata": {},
   "outputs": [],
   "source": []
  },
  {
   "cell_type": "code",
   "execution_count": null,
   "id": "68bfde4d-82be-4193-81b0-0de7432e8846",
   "metadata": {},
   "outputs": [],
   "source": []
  },
  {
   "cell_type": "code",
   "execution_count": null,
   "id": "3a236a45-c9d4-4640-80c8-d1c1a495f8c4",
   "metadata": {},
   "outputs": [],
   "source": []
  },
  {
   "cell_type": "code",
   "execution_count": null,
   "id": "c9260633-d178-4026-afad-6945c81dc8c0",
   "metadata": {},
   "outputs": [],
   "source": []
  },
  {
   "cell_type": "code",
   "execution_count": null,
   "id": "99c809c2-7674-423e-aa20-2a99fc019142",
   "metadata": {},
   "outputs": [],
   "source": []
  },
  {
   "cell_type": "code",
   "execution_count": null,
   "id": "5a530e1b-c11a-444c-91f6-0a8e6fd8ae7d",
   "metadata": {},
   "outputs": [],
   "source": []
  },
  {
   "cell_type": "code",
   "execution_count": null,
   "id": "69d8c1c0-c6d2-4496-a8da-2842d3158a2a",
   "metadata": {},
   "outputs": [],
   "source": []
  },
  {
   "cell_type": "code",
   "execution_count": null,
   "id": "a17937b6-3a98-4fbb-a2a3-5bb5d99f0863",
   "metadata": {},
   "outputs": [],
   "source": []
  },
  {
   "cell_type": "code",
   "execution_count": null,
   "id": "deba3663-774e-444b-9e47-76b2101e0c8c",
   "metadata": {},
   "outputs": [],
   "source": []
  },
  {
   "cell_type": "code",
   "execution_count": null,
   "id": "5991263d-c3f2-45e7-bd6a-2b8205496dfd",
   "metadata": {},
   "outputs": [],
   "source": []
  },
  {
   "cell_type": "code",
   "execution_count": null,
   "id": "0bee8a7e-61f9-46ca-a1c7-4485f9108882",
   "metadata": {},
   "outputs": [],
   "source": []
  },
  {
   "cell_type": "code",
   "execution_count": null,
   "id": "a6925744-e006-4773-8274-d7044efc2d89",
   "metadata": {},
   "outputs": [],
   "source": []
  },
  {
   "cell_type": "code",
   "execution_count": null,
   "id": "641d67d8-4624-4f9b-9475-dc79277a56cc",
   "metadata": {},
   "outputs": [],
   "source": []
  },
  {
   "cell_type": "code",
   "execution_count": null,
   "id": "5b463735-e989-4b38-886f-fc213a1b0f65",
   "metadata": {},
   "outputs": [],
   "source": []
  },
  {
   "cell_type": "code",
   "execution_count": null,
   "id": "99bb96d6-5d56-4452-9cd1-255e314783b5",
   "metadata": {},
   "outputs": [],
   "source": []
  }
 ],
 "metadata": {
  "kernelspec": {
   "display_name": "Python 3 (ipykernel)",
   "language": "python",
   "name": "python3"
  },
  "language_info": {
   "codemirror_mode": {
    "name": "ipython",
    "version": 3
   },
   "file_extension": ".py",
   "mimetype": "text/x-python",
   "name": "python",
   "nbconvert_exporter": "python",
   "pygments_lexer": "ipython3",
   "version": "3.11.9"
  }
 },
 "nbformat": 4,
 "nbformat_minor": 5
}
